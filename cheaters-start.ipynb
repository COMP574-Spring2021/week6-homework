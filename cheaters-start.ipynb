{
 "cells": [
  {
   "cell_type": "markdown",
   "metadata": {},
   "source": [
    "### [Finding the Cheaters](https://medium.com/@rkaplan/finding-the-tennis-suspects-c2d9f198c33d)\n",
    "\n",
    "Requires 'puzzle_anon.csv' and 'puzzle_real.csv' files\n",
    "\n",
    "You are asked to find the name of the top cheater by comparing the odds change of all of their matches. We'd like to identify this player who has the biggist difference between their starting odds and ending odds."
   ]
  },
  {
   "cell_type": "code",
   "execution_count": 16,
   "metadata": {},
   "outputs": [],
   "source": [
    "import pandas as pd"
   ]
  },
  {
   "cell_type": "code",
   "execution_count": 35,
   "metadata": {},
   "outputs": [
    {
     "output_type": "execute_result",
     "data": {
      "text/plain": [
       "                  name  start odds  end odds\n",
       "0  1718561694846000000    0.924528  0.154088\n",
       "1  1693568023468290000    0.104886  0.104886\n",
       "2  6228119144908420000    0.845956  0.140993\n",
       "3  2416068425895370000    0.846787  0.141131\n",
       "4  2416068425895370000    0.583809  0.145952"
      ],
      "text/html": "<div>\n<style scoped>\n    .dataframe tbody tr th:only-of-type {\n        vertical-align: middle;\n    }\n\n    .dataframe tbody tr th {\n        vertical-align: top;\n    }\n\n    .dataframe thead th {\n        text-align: right;\n    }\n</style>\n<table border=\"1\" class=\"dataframe\">\n  <thead>\n    <tr style=\"text-align: right;\">\n      <th></th>\n      <th>name</th>\n      <th>start odds</th>\n      <th>end odds</th>\n    </tr>\n  </thead>\n  <tbody>\n    <tr>\n      <th>0</th>\n      <td>1718561694846000000</td>\n      <td>0.924528</td>\n      <td>0.154088</td>\n    </tr>\n    <tr>\n      <th>1</th>\n      <td>1693568023468290000</td>\n      <td>0.104886</td>\n      <td>0.104886</td>\n    </tr>\n    <tr>\n      <th>2</th>\n      <td>6228119144908420000</td>\n      <td>0.845956</td>\n      <td>0.140993</td>\n    </tr>\n    <tr>\n      <th>3</th>\n      <td>2416068425895370000</td>\n      <td>0.846787</td>\n      <td>0.141131</td>\n    </tr>\n    <tr>\n      <th>4</th>\n      <td>2416068425895370000</td>\n      <td>0.583809</td>\n      <td>0.145952</td>\n    </tr>\n  </tbody>\n</table>\n</div>"
     },
     "metadata": {},
     "execution_count": 35
    }
   ],
   "source": [
    "odds = pd.read_csv('puzzle_anon.csv')\n",
    "odds.head()"
   ]
  },
  {
   "cell_type": "code",
   "execution_count": 36,
   "metadata": {},
   "outputs": [
    {
     "output_type": "execute_result",
     "data": {
      "text/plain": [
       "      name  start odds  end odds\n",
       "0     hill    0.501586  0.501586\n",
       "1      bob    0.337860  0.056310\n",
       "2     john    0.013989  0.002331\n",
       "3    sally    0.530880  0.088480\n",
       "4      bob    0.323761  0.064752\n",
       "..     ...         ...       ...\n",
       "144    don    0.394237  0.394237\n",
       "145    sue    0.001080  0.000216\n",
       "146   jane    0.749858  0.149972\n",
       "147   john    0.915060  0.152510\n",
       "148   hill    0.351388  0.175694\n",
       "\n",
       "[149 rows x 3 columns]"
      ],
      "text/html": "<div>\n<style scoped>\n    .dataframe tbody tr th:only-of-type {\n        vertical-align: middle;\n    }\n\n    .dataframe tbody tr th {\n        vertical-align: top;\n    }\n\n    .dataframe thead th {\n        text-align: right;\n    }\n</style>\n<table border=\"1\" class=\"dataframe\">\n  <thead>\n    <tr style=\"text-align: right;\">\n      <th></th>\n      <th>name</th>\n      <th>start odds</th>\n      <th>end odds</th>\n    </tr>\n  </thead>\n  <tbody>\n    <tr>\n      <th>0</th>\n      <td>hill</td>\n      <td>0.501586</td>\n      <td>0.501586</td>\n    </tr>\n    <tr>\n      <th>1</th>\n      <td>bob</td>\n      <td>0.337860</td>\n      <td>0.056310</td>\n    </tr>\n    <tr>\n      <th>2</th>\n      <td>john</td>\n      <td>0.013989</td>\n      <td>0.002331</td>\n    </tr>\n    <tr>\n      <th>3</th>\n      <td>sally</td>\n      <td>0.530880</td>\n      <td>0.088480</td>\n    </tr>\n    <tr>\n      <th>4</th>\n      <td>bob</td>\n      <td>0.323761</td>\n      <td>0.064752</td>\n    </tr>\n    <tr>\n      <th>...</th>\n      <td>...</td>\n      <td>...</td>\n      <td>...</td>\n    </tr>\n    <tr>\n      <th>144</th>\n      <td>don</td>\n      <td>0.394237</td>\n      <td>0.394237</td>\n    </tr>\n    <tr>\n      <th>145</th>\n      <td>sue</td>\n      <td>0.001080</td>\n      <td>0.000216</td>\n    </tr>\n    <tr>\n      <th>146</th>\n      <td>jane</td>\n      <td>0.749858</td>\n      <td>0.149972</td>\n    </tr>\n    <tr>\n      <th>147</th>\n      <td>john</td>\n      <td>0.915060</td>\n      <td>0.152510</td>\n    </tr>\n    <tr>\n      <th>148</th>\n      <td>hill</td>\n      <td>0.351388</td>\n      <td>0.175694</td>\n    </tr>\n  </tbody>\n</table>\n<p>149 rows × 3 columns</p>\n</div>"
     },
     "metadata": {},
     "execution_count": 36
    }
   ],
   "source": [
    "player_names = pd.read_csv('puzzle_real.csv')\n",
    "player_names"
   ]
  }
 ],
 "metadata": {
  "kernelspec": {
   "display_name": "Python 3",
   "language": "python",
   "name": "python3"
  },
  "language_info": {
   "codemirror_mode": {
    "name": "ipython",
    "version": 3
   },
   "file_extension": ".py",
   "mimetype": "text/x-python",
   "name": "python",
   "nbconvert_exporter": "python",
   "pygments_lexer": "ipython3",
   "version": "3.8.3-final"
  }
 },
 "nbformat": 4,
 "nbformat_minor": 4
}